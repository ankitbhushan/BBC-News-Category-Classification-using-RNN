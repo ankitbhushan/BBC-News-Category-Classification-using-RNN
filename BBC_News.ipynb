{
  "nbformat": 4,
  "nbformat_minor": 0,
  "metadata": {
    "colab": {
      "name": "BBC-News.ipynb",
      "provenance": []
    },
    "kernelspec": {
      "name": "python3",
      "display_name": "Python 3"
    }
  },
  "cells": [
    {
      "cell_type": "code",
      "metadata": {
        "id": "UZKTLVAqFBA5",
        "colab_type": "code",
        "colab": {
          "base_uri": "https://localhost:8080/",
          "height": 204
        },
        "outputId": "fc682b92-d726-4f1d-9b24-7ed5c3a9a03b"
      },
      "source": [
        "import csv\n",
        "from keras.preprocessing.text import Tokenizer\n",
        "from keras.preprocessing.sequence import pad_sequences\n",
        "from keras import layers\n",
        "\n",
        "!wget --no-check-certificate \\\n",
        "    https://storage.googleapis.com/laurencemoroney-blog.appspot.com/bbc-text.csv \\\n",
        "    -O /tmp/bbc-text.csv"
      ],
      "execution_count": null,
      "outputs": [
        {
          "output_type": "stream",
          "text": [
            "--2020-07-18 11:47:09--  https://storage.googleapis.com/laurencemoroney-blog.appspot.com/bbc-text.csv\n",
            "Resolving storage.googleapis.com (storage.googleapis.com)... 173.194.69.128, 108.177.119.128, 108.177.126.128, ...\n",
            "Connecting to storage.googleapis.com (storage.googleapis.com)|173.194.69.128|:443... connected.\n",
            "HTTP request sent, awaiting response... 200 OK\n",
            "Length: 5057493 (4.8M) [application/octet-stream]\n",
            "Saving to: ‘/tmp/bbc-text.csv’\n",
            "\n",
            "\r/tmp/bbc-text.csv     0%[                    ]       0  --.-KB/s               \r/tmp/bbc-text.csv   100%[===================>]   4.82M  --.-KB/s    in 0.05s   \n",
            "\n",
            "2020-07-18 11:47:09 (103 MB/s) - ‘/tmp/bbc-text.csv’ saved [5057493/5057493]\n",
            "\n"
          ],
          "name": "stdout"
        }
      ]
    },
    {
      "cell_type": "code",
      "metadata": {
        "id": "6Eji_esBFbQ9",
        "colab_type": "code",
        "colab": {
          "base_uri": "https://localhost:8080/",
          "height": 88
        },
        "outputId": "64d5abd2-e635-4ab3-ab96-bf249781686e"
      },
      "source": [
        "sentences = []\n",
        "labels = []\n",
        "stopwords = [ \"a\", \"about\", \"above\", \"after\", \"again\", \"against\", \"all\", \"am\", \"an\", \"and\", \"any\", \"are\", \"as\", \"at\", \"be\", \"because\", \"been\", \"before\", \n",
        "             \"being\", \"below\", \"between\", \"both\", \"but\", \"by\", \"could\", \"did\", \"do\", \"does\", \"doing\", \"down\", \"during\", \"each\", \"few\", \"for\", \"from\", \n",
        "             \"further\", \"had\", \"has\", \"have\", \"having\", \"he\", \"he'd\", \"he'll\", \"he's\", \"her\", \"here\", \"here's\", \"hers\", \"herself\", \"him\", \"himself\", \"his\", \n",
        "             \"how\", \"how's\", \"i\", \"i'd\", \"i'll\", \"i'm\", \"i've\", \"if\", \"in\", \"into\", \"is\", \"it\", \"it's\", \"its\", \"itself\", \"let's\", \"me\", \"more\", \"most\", \"my\", \n",
        "             \"myself\", \"nor\", \"of\", \"on\", \"once\", \"only\", \"or\", \"other\", \"ought\", \"our\", \"ours\", \"ourselves\", \"out\", \"over\", \"own\", \"same\", \"she\", \"she'd\", \n",
        "             \"she'll\", \"she's\", \"should\", \"so\", \"some\", \"such\", \"than\", \"that\", \"that's\", \"the\", \"their\", \"theirs\", \"them\", \"themselves\", \"then\", \"there\", \n",
        "             \"there's\", \"these\", \"they\", \"they'd\", \"they'll\", \"they're\", \"they've\", \"this\", \"those\", \"through\", \"to\", \"too\", \"under\", \"until\", \"up\", \"very\", \n",
        "             \"was\", \"we\", \"we'd\", \"we'll\", \"we're\", \"we've\", \"were\", \"what\", \"what's\", \"when\", \"when's\", \"where\", \"where's\", \"which\", \"while\", \"who\", \"who's\", \n",
        "             \"whom\", \"why\", \"why's\", \"with\", \"would\", \"you\", \"you'd\", \"you'll\", \"you're\", \"you've\", \"your\", \"yours\", \"yourself\", \"yourselves\" ]\n",
        "\n",
        "with open('/tmp/bbc-text.csv', 'r') as filename:\n",
        "  datastore = csv.reader(filename)\n",
        "  next(datastore)\n",
        "  for row in datastore:\n",
        "    labels.append(row[0])\n",
        "    sentence = row[1]\n",
        "    for word in stopwords:\n",
        "      token = \" \" + word + \" \"\n",
        "      sentence = sentence.replace(token, \" \")\n",
        "    sentences.append(sentence)\n",
        "print(len(labels))\n",
        "print(len(sentences))\n",
        "print(sentences[0])    "
      ],
      "execution_count": null,
      "outputs": [
        {
          "output_type": "stream",
          "text": [
            "2225\n",
            "2225\n",
            "tv future hands viewers home theatre systems  plasma high-definition tvs  digital video recorders moving living room  way people watch tv will radically different five years  time.  according expert panel gathered annual consumer electronics show las vegas discuss new technologies will impact one favourite pastimes. us leading trend  programmes content will delivered viewers via home networks  cable  satellite  telecoms companies  broadband service providers front rooms portable devices.  one talked-about technologies ces digital personal video recorders (dvr pvr). set-top boxes  like us s tivo uk s sky+ system  allow people record  store  play  pause forward wind tv programmes want.  essentially  technology allows much personalised tv. also built-in high-definition tv sets  big business japan us  slower take off europe lack high-definition programming. not can people forward wind adverts  can also forget abiding network channel schedules  putting together a-la-carte entertainment. us networks cable satellite companies worried means terms advertising revenues well  brand identity  viewer loyalty channels. although us leads technology moment  also concern raised europe  particularly growing uptake services like sky+.  happens today  will see nine months years  time uk   adam hume  bbc broadcast s futurologist told bbc news website. likes bbc  no issues lost advertising revenue yet. pressing issue moment commercial uk broadcasters  brand loyalty important everyone.  will talking content brands rather network brands   said tim hanlon  brand communications firm starcom mediavest.  reality broadband connections  anybody can producer content.  added:  challenge now hard promote programme much choice.   means  said stacey jolna  senior vice president tv guide tv group  way people find content want watch simplified tv viewers. means networks  us terms  channels take leaf google s book search engine future  instead scheduler help people find want watch. kind channel model might work younger ipod generation used taking control gadgets play them. might not suit everyone  panel recognised. older generations comfortable familiar schedules channel brands know getting. perhaps not want much choice put hands  mr hanlon suggested.  end  kids just diapers pushing buttons already - everything possible available   said mr hanlon.  ultimately  consumer will tell market want.   50 000 new gadgets technologies showcased ces  many enhancing tv-watching experience. high-definition tv sets everywhere many new models lcd (liquid crystal display) tvs launched dvr capability built  instead external boxes. one example launched show humax s 26-inch lcd tv 80-hour tivo dvr dvd recorder. one us s biggest satellite tv companies  directtv  even launched branded dvr show 100-hours recording capability  instant replay  search function. set can pause rewind tv 90 hours. microsoft chief bill gates announced pre-show keynote speech partnership tivo  called tivotogo  means people can play recorded programmes windows pcs mobile devices. reflect increasing trend freeing multimedia people can watch want  want.\n"
          ],
          "name": "stdout"
        }
      ]
    },
    {
      "cell_type": "code",
      "metadata": {
        "id": "GDoywRFzwm_l",
        "colab_type": "code",
        "colab": {}
      },
      "source": [
        "vocabulary = 10000\n",
        "embedding_dim = 16\n",
        "max_length = 120\n",
        "trunc_type = 'post'\n",
        "oov_tok = '<oov>'\n",
        "padding_type = 'post'\n",
        "training_portion = 0.8"
      ],
      "execution_count": null,
      "outputs": []
    },
    {
      "cell_type": "code",
      "metadata": {
        "id": "uhiz6EjN1SRV",
        "colab_type": "code",
        "colab": {
          "base_uri": "https://localhost:8080/",
          "height": 85
        },
        "outputId": "2743453c-4e16-465d-86aa-1b4eb1d8aa77"
      },
      "source": [
        "training_size = int(len(sentences) * training_portion)\n",
        "train_sentences = sentences[:training_size]\n",
        "train_labels = labels[:training_size]\n",
        "validation_sentences = sentences[training_size:]\n",
        "validation_labels = labels[training_size:]\n",
        "print(len(train_sentences))\n",
        "print(len(train_labels))\n",
        "print(len(validation_sentences))\n",
        "print(len(validation_labels))"
      ],
      "execution_count": null,
      "outputs": [
        {
          "output_type": "stream",
          "text": [
            "1780\n",
            "1780\n",
            "445\n",
            "445\n"
          ],
          "name": "stdout"
        }
      ]
    },
    {
      "cell_type": "code",
      "metadata": {
        "id": "OXbTXJj9x01I",
        "colab_type": "code",
        "colab": {
          "base_uri": "https://localhost:8080/",
          "height": 119
        },
        "outputId": "2d32a4f2-e58e-4c1e-b2af-d71bda79cc08"
      },
      "source": [
        "tokenizer = Tokenizer(num_words=vocabulary, oov_token=oov_tok)\n",
        "tokenizer.fit_on_texts(train_sentences)\n",
        "word_index = tokenizer.word_index\n",
        "train_sequences = tokenizer.texts_to_sequences(train_sentences)\n",
        "train_padded = pad_sequences(train_sequences, maxlen=max_length, padding=padding_type)\n",
        "print(len(train_sequences[0]))\n",
        "print(len(train_padded[0]))\n",
        "\n",
        "print(len(train_sequences[1]))\n",
        "print(len(train_padded[1]))\n",
        "\n",
        "print(len(train_sequences[10]))\n",
        "print(len(train_padded[10]))"
      ],
      "execution_count": null,
      "outputs": [
        {
          "output_type": "stream",
          "text": [
            "449\n",
            "120\n",
            "200\n",
            "120\n",
            "192\n",
            "120\n"
          ],
          "name": "stdout"
        }
      ]
    },
    {
      "cell_type": "code",
      "metadata": {
        "id": "2o37skSz0esC",
        "colab_type": "code",
        "colab": {}
      },
      "source": [
        "validation_sequences = tokenizer.texts_to_sequences(validation_sentences)\n",
        "validation_padded = pad_sequences(validation_sequences, padding=padding_type, maxlen=max_length)"
      ],
      "execution_count": null,
      "outputs": []
    },
    {
      "cell_type": "code",
      "metadata": {
        "id": "JtMYyAfs4kO-",
        "colab_type": "code",
        "colab": {
          "base_uri": "https://localhost:8080/",
          "height": 102
        },
        "outputId": "a9a1d6ab-33e7-4a26-ce4e-995974ab466b"
      },
      "source": [
        "print(training_size)\n",
        "print(len(train_sentences))\n",
        "print(len(train_labels))\n",
        "print(len(validation_sentences))\n",
        "print(len(validation_labels))"
      ],
      "execution_count": null,
      "outputs": [
        {
          "output_type": "stream",
          "text": [
            "1780\n",
            "1780\n",
            "1780\n",
            "445\n",
            "445\n"
          ],
          "name": "stdout"
        }
      ]
    },
    {
      "cell_type": "code",
      "metadata": {
        "id": "InupxTJy402_",
        "colab_type": "code",
        "colab": {}
      },
      "source": [
        "import numpy as np\n",
        "\n",
        "labels_tokenizer = Tokenizer()\n",
        "training_labels = labels_tokenizer.fit_on_texts(train_labels)\n",
        "\n",
        "training_label_seq = np.array(labels_tokenizer.texts_to_sequences(train_labels))\n",
        "validation_label_seq = np.array(labels_tokenizer.texts_to_sequences(validation_labels))"
      ],
      "execution_count": null,
      "outputs": []
    },
    {
      "cell_type": "code",
      "metadata": {
        "id": "yVf-F3zf85m-",
        "colab_type": "code",
        "colab": {
          "base_uri": "https://localhost:8080/",
          "height": 153
        },
        "outputId": "1fec04db-76e0-4aa1-d4b7-0bbbcbb9c50c"
      },
      "source": [
        "print(training_label_seq[0])\n",
        "print(training_label_seq[1])\n",
        "print(training_label_seq[2])\n",
        "print(training_label_seq.shape)\n",
        "\n",
        "print(validation_label_seq[0])\n",
        "print(validation_label_seq[1])\n",
        "print(validation_label_seq[2])\n",
        "print(validation_label_seq.shape)"
      ],
      "execution_count": null,
      "outputs": [
        {
          "output_type": "stream",
          "text": [
            "[5]\n",
            "[2]\n",
            "[1]\n",
            "(1780, 1)\n",
            "[4]\n",
            "[5]\n",
            "[3]\n",
            "(445, 1)\n"
          ],
          "name": "stdout"
        }
      ]
    },
    {
      "cell_type": "code",
      "metadata": {
        "id": "4tsUUr6v_u6E",
        "colab_type": "code",
        "colab": {}
      },
      "source": [
        "import keras\n",
        "model = keras.Sequential()\n",
        "model.add(layers.Embedding(vocabulary,embedding_dim,input_length=max_length))\n",
        "model.add(layers.GlobalAveragePooling1D())\n",
        "model.add(layers.Dense(24,activation='relu'))\n",
        "model.add(layers.Dense(6, activation='softmax'))"
      ],
      "execution_count": null,
      "outputs": []
    },
    {
      "cell_type": "code",
      "metadata": {
        "id": "lTeT8rC-Beh_",
        "colab_type": "code",
        "colab": {
          "base_uri": "https://localhost:8080/",
          "height": 289
        },
        "outputId": "2824fbf5-19fd-4354-9fdf-edd4afc825c9"
      },
      "source": [
        "model.compile(loss='sparse_categorical_crossentropy', optimizer='adam', metrics=['accuracy'])\n",
        "model.summary()"
      ],
      "execution_count": null,
      "outputs": [
        {
          "output_type": "stream",
          "text": [
            "Model: \"sequential_5\"\n",
            "_________________________________________________________________\n",
            "Layer (type)                 Output Shape              Param #   \n",
            "=================================================================\n",
            "embedding_5 (Embedding)      (None, 120, 16)           160000    \n",
            "_________________________________________________________________\n",
            "global_average_pooling1d_5 ( (None, 16)                0         \n",
            "_________________________________________________________________\n",
            "dense_9 (Dense)              (None, 24)                408       \n",
            "_________________________________________________________________\n",
            "dense_10 (Dense)             (None, 6)                 150       \n",
            "=================================================================\n",
            "Total params: 160,558\n",
            "Trainable params: 160,558\n",
            "Non-trainable params: 0\n",
            "_________________________________________________________________\n"
          ],
          "name": "stdout"
        }
      ]
    },
    {
      "cell_type": "code",
      "metadata": {
        "id": "6N3OiDvrCY5h",
        "colab_type": "code",
        "colab": {
          "base_uri": "https://localhost:8080/",
          "height": 1000
        },
        "outputId": "4ca2e9c7-6e79-4202-d3ed-1dd518f71326"
      },
      "source": [
        "num_epochs = 30\n",
        "history = model.fit(train_padded,\n",
        "          training_label_seq,\n",
        "          epochs=num_epochs,\n",
        "          validation_data=(validation_padded,validation_label_seq),\n",
        "          verbose=2)"
      ],
      "execution_count": null,
      "outputs": [
        {
          "output_type": "stream",
          "text": [
            "/usr/local/lib/python3.6/dist-packages/tensorflow/python/framework/indexed_slices.py:434: UserWarning: Converting sparse IndexedSlices to a dense Tensor of unknown shape. This may consume a large amount of memory.\n",
            "  \"Converting sparse IndexedSlices to a dense Tensor of unknown shape. \"\n"
          ],
          "name": "stderr"
        },
        {
          "output_type": "stream",
          "text": [
            "Train on 1780 samples, validate on 445 samples\n",
            "Epoch 1/30\n",
            " - 1s - loss: 1.7639 - accuracy: 0.3556 - val_loss: 1.7244 - val_accuracy: 0.5506\n",
            "Epoch 2/30\n",
            " - 0s - loss: 1.6546 - accuracy: 0.6292 - val_loss: 1.5760 - val_accuracy: 0.6674\n",
            "Epoch 3/30\n",
            " - 0s - loss: 1.4388 - accuracy: 0.8202 - val_loss: 1.3249 - val_accuracy: 0.8270\n",
            "Epoch 4/30\n",
            " - 0s - loss: 1.1257 - accuracy: 0.9230 - val_loss: 1.0190 - val_accuracy: 0.8989\n",
            "Epoch 5/30\n",
            " - 0s - loss: 0.7938 - accuracy: 0.9607 - val_loss: 0.7464 - val_accuracy: 0.9079\n",
            "Epoch 6/30\n",
            " - 0s - loss: 0.5298 - accuracy: 0.9685 - val_loss: 0.5554 - val_accuracy: 0.9303\n",
            "Epoch 7/30\n",
            " - 0s - loss: 0.3542 - accuracy: 0.9798 - val_loss: 0.4296 - val_accuracy: 0.9281\n",
            "Epoch 8/30\n",
            " - 0s - loss: 0.2446 - accuracy: 0.9871 - val_loss: 0.3534 - val_accuracy: 0.9348\n",
            "Epoch 9/30\n",
            " - 0s - loss: 0.1751 - accuracy: 0.9921 - val_loss: 0.3032 - val_accuracy: 0.9393\n",
            "Epoch 10/30\n",
            " - 0s - loss: 0.1286 - accuracy: 0.9949 - val_loss: 0.2705 - val_accuracy: 0.9416\n",
            "Epoch 11/30\n",
            " - 0s - loss: 0.0967 - accuracy: 0.9961 - val_loss: 0.2475 - val_accuracy: 0.9416\n",
            "Epoch 12/30\n",
            " - 0s - loss: 0.0744 - accuracy: 0.9966 - val_loss: 0.2281 - val_accuracy: 0.9416\n",
            "Epoch 13/30\n",
            " - 0s - loss: 0.0582 - accuracy: 0.9978 - val_loss: 0.2141 - val_accuracy: 0.9438\n",
            "Epoch 14/30\n",
            " - 0s - loss: 0.0463 - accuracy: 0.9994 - val_loss: 0.2039 - val_accuracy: 0.9438\n",
            "Epoch 15/30\n",
            " - 0s - loss: 0.0374 - accuracy: 0.9994 - val_loss: 0.1960 - val_accuracy: 0.9461\n",
            "Epoch 16/30\n",
            " - 0s - loss: 0.0307 - accuracy: 1.0000 - val_loss: 0.1887 - val_accuracy: 0.9461\n",
            "Epoch 17/30\n",
            " - 0s - loss: 0.0256 - accuracy: 1.0000 - val_loss: 0.1834 - val_accuracy: 0.9461\n",
            "Epoch 18/30\n",
            " - 0s - loss: 0.0215 - accuracy: 1.0000 - val_loss: 0.1789 - val_accuracy: 0.9461\n",
            "Epoch 19/30\n",
            " - 0s - loss: 0.0184 - accuracy: 1.0000 - val_loss: 0.1751 - val_accuracy: 0.9461\n",
            "Epoch 20/30\n",
            " - 0s - loss: 0.0158 - accuracy: 1.0000 - val_loss: 0.1717 - val_accuracy: 0.9461\n",
            "Epoch 21/30\n",
            " - 0s - loss: 0.0136 - accuracy: 1.0000 - val_loss: 0.1689 - val_accuracy: 0.9461\n",
            "Epoch 22/30\n",
            " - 0s - loss: 0.0119 - accuracy: 1.0000 - val_loss: 0.1664 - val_accuracy: 0.9483\n",
            "Epoch 23/30\n",
            " - 0s - loss: 0.0105 - accuracy: 1.0000 - val_loss: 0.1641 - val_accuracy: 0.9483\n",
            "Epoch 24/30\n",
            " - 0s - loss: 0.0093 - accuracy: 1.0000 - val_loss: 0.1624 - val_accuracy: 0.9483\n",
            "Epoch 25/30\n",
            " - 0s - loss: 0.0083 - accuracy: 1.0000 - val_loss: 0.1603 - val_accuracy: 0.9483\n",
            "Epoch 26/30\n",
            " - 0s - loss: 0.0074 - accuracy: 1.0000 - val_loss: 0.1593 - val_accuracy: 0.9483\n",
            "Epoch 27/30\n",
            " - 0s - loss: 0.0067 - accuracy: 1.0000 - val_loss: 0.1579 - val_accuracy: 0.9483\n",
            "Epoch 28/30\n",
            " - 0s - loss: 0.0060 - accuracy: 1.0000 - val_loss: 0.1566 - val_accuracy: 0.9483\n",
            "Epoch 29/30\n",
            " - 0s - loss: 0.0055 - accuracy: 1.0000 - val_loss: 0.1558 - val_accuracy: 0.9483\n",
            "Epoch 30/30\n",
            " - 0s - loss: 0.0050 - accuracy: 1.0000 - val_loss: 0.1547 - val_accuracy: 0.9483\n"
          ],
          "name": "stdout"
        }
      ]
    },
    {
      "cell_type": "code",
      "metadata": {
        "id": "YMwlF19KDCDy",
        "colab_type": "code",
        "colab": {
          "base_uri": "https://localhost:8080/",
          "height": 265
        },
        "outputId": "c95560b5-a233-4ba0-fea7-2f26cbf516af"
      },
      "source": [
        "import matplotlib.pyplot as plt\n",
        "\n",
        "train_accuracy = history.history['accuracy']\n",
        "train_loss = history.history['loss']\n",
        "\n",
        "val_accuracy = history.history['val_accuracy']\n",
        "val_loss = history.history['val_loss']\n",
        "\n",
        "epochs = range(len(train_accuracy))\n",
        "\n",
        "plt.plot(train_accuracy, label='train_accuracy')\n",
        "plt.plot(val_accuracy,label='val_accuracy')\n",
        "plt.legend()\n",
        "plt.show()\n"
      ],
      "execution_count": null,
      "outputs": [
        {
          "output_type": "display_data",
          "data": {
            "image/png": "[encoded data removed]",
            "text/plain": [
              "<Figure size 432x288 with 1 Axes>"
            ]
          },
          "metadata": {
            "tags": [],
            "needs_background": "light"
          }
        }
      ]
    },
    {
      "cell_type": "code",
      "metadata": {
        "id": "NflUj-t7L9y9",
        "colab_type": "code",
        "colab": {
          "base_uri": "https://localhost:8080/",
          "height": 265
        },
        "outputId": "b09d89ff-8b7c-4911-f0b8-6f8a3f2e9832"
      },
      "source": [
        "plt.plot(train_loss, label='train_loss')\n",
        "plt.plot(val_loss,label='val_loss')\n",
        "plt.legend()\n",
        "plt.show()"
      ],
      "execution_count": null,
      "outputs": [
        {
          "output_type": "display_data",
          "data": {
            "image/png": "[encoded data removed]",
            "text/plain": [
              "<Figure size 432x288 with 1 Axes>"
            ]
          },
          "metadata": {
            "tags": [],
            "needs_background": "light"
          }
        }
      ]
    },
    {
      "cell_type": "code",
      "metadata": {
        "id": "fbBlkc27M82E",
        "colab_type": "code",
        "colab": {}
      },
      "source": [
        ""
      ],
      "execution_count": null,
      "outputs": []
    }
  ]
}